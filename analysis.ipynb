{
 "cells": [
  {
   "cell_type": "markdown",
   "metadata": {},
   "source": [
    "### Load module"
   ]
  },
  {
   "cell_type": "code",
   "execution_count": 3,
   "metadata": {
    "ExecuteTime": {
     "end_time": "2020-03-15T17:18:55.158625Z",
     "start_time": "2020-03-15T17:18:54.448414Z"
    }
   },
   "outputs": [],
   "source": [
    "import os\n",
    "import numpy as np\n",
    "import pandas as pd\n",
    "from matplotlib import pyplot as plt\n",
    "import matplotlib\n",
    "import copy\n",
    "plt.rc('text', usetex=True)"
   ]
  },
  {
   "cell_type": "markdown",
   "metadata": {
    "heading_collapsed": true
   },
   "source": [
    "### big picture"
   ]
  },
  {
   "cell_type": "markdown",
   "metadata": {
    "hidden": true
   },
   "source": [
    "Attributes that we want to include\n",
    "+ acc:\n",
    "    - TIME;\n",
    "    - WEEKDAY; (category)\n",
    "    - RDSURF; (category)\n",
    "    - LIGHT; (category)\n",
    "    - WEATHER; (category)\n",
    "+ curv:\n",
    "    - deg_curv;\n",
    "+ grad:\n",
    "    - pct_grad;\n",
    "+ road:\n",
    "    - AADT;\n",
    "    - trkpcts;\n",
    "    - mvmt;\n",
    "    - RURURB; (category)\n",
    "    - MED_TYPE, MEDWID;\n",
    "    - LSHL_TYP, LSHL_TY2, LSHLDWID, LSHL_WD2; (2 represents decreasing direction)\n",
    "    - RSHL_TYP, RSHL_TY2, RSHLDWID, RSHL_WD2;\n",
    "    - SURF_TYP, SURF_TY2; (The composition of the driving surfacein two directions)\n",
    "    - lanewid, rdwy_wid; (on average, need filter > 0)\n",
    "    - FUNC_CLS; (? this might be an summary variable that includes info of all previous variables)(category)\n",
    "+ occ:<br>\n",
    "    &nbsp;&nbsp;&nbsp;&nbsp;None;\n",
    "+ peds:<br>\n",
    "    &nbsp;&nbsp;&nbsp;&nbsp;None;\n",
    "+ veh:\n",
    "    - DRV_SEX; (need to summarize)\n",
    "    - DRV_AGE; (need to summarize)\n",
    "    - vehtype; (>4 is big ones?)\n",
    "    - surf_typ; (Roadway surface type at the crash location? redundant info? No they do not agree)\n",
    "    - drv_actn; (difficult)\n",
    "    - intox; (need to summarize)"
   ]
  },
  {
   "cell_type": "markdown",
   "metadata": {
    "heading_collapsed": true
   },
   "source": [
    "### functions and pre-test"
   ]
  },
  {
   "cell_type": "markdown",
   "metadata": {
    "hidden": true
   },
   "source": [
    "#### read function - everybody needs"
   ]
  },
  {
   "cell_type": "code",
   "execution_count": null,
   "metadata": {
    "ExecuteTime": {
     "end_time": "2020-03-14T17:10:57.563797Z",
     "start_time": "2020-03-14T17:10:57.556016Z"
    },
    "hidden": true
   },
   "outputs": [],
   "source": [
    "def detect_files(directory, keyword):\n",
    "    \"\"\"\n",
    "    detect files in specified directory with specified keyword\n",
    "\n",
    "    input\n",
    "    -----\n",
    "    directory : string\n",
    "        dir to search\n",
    "\n",
    "    keyword : string\n",
    "        keyword to look for\n",
    "\n",
    "    output\n",
    "    -----\n",
    "    sorted list of file names\n",
    "\n",
    "    test\n",
    "    -----\n",
    "        (1) if output has larger than length;\n",
    "    \"\"\"\n",
    "\n",
    "    file_list = []\n",
    "    for file in os.listdir(directory):\n",
    "        if not (keyword is None):\n",
    "            if keyword in file:\n",
    "                file_list.append(file)\n",
    "        else:\n",
    "            file_list.append(file)\n",
    "    \n",
    "    return sorted(file_list)\n",
    "\n",
    "def read_files(directory, keyword):\n",
    "    \"\"\"\n",
    "    read files with specified keyword\n",
    "\n",
    "    input\n",
    "    -----\n",
    "    directory : string\n",
    "        directory to read files from\n",
    "\n",
    "    keyword : string\n",
    "        keyword to search for\n",
    "\n",
    "    output\n",
    "    -----\n",
    "    output_dic : dic\n",
    "        dictionary of datasets\n",
    "\n",
    "    test\n",
    "    -----\n",
    "        (1) output_dic should have length 5, for 2013 - 2017;\n",
    "        (2) keyword should not be empty;\n",
    "    \"\"\"\n",
    "    output_dic = {}\n",
    "    file_list = detect_files(directory, keyword)\n",
    "    for yr in range(2013, 2018):\n",
    "        output_dic[yr] = pd.read_csv(os.path.join(directory, file_list[yr-2013]))\n",
    "    return output_dic"
   ]
  },
  {
   "cell_type": "code",
   "execution_count": null,
   "metadata": {
    "hidden": true
   },
   "outputs": [],
   "source": []
  },
  {
   "cell_type": "markdown",
   "metadata": {
    "heading_collapsed": true,
    "hidden": true
   },
   "source": [
    "#### test on veh aggregation\n",
    "This function will be used in s3_merge.py"
   ]
  },
  {
   "cell_type": "code",
   "execution_count": null,
   "metadata": {
    "ExecuteTime": {
     "end_time": "2020-03-13T01:48:34.711197Z",
     "start_time": "2020-03-13T01:48:34.694525Z"
    },
    "hidden": true
   },
   "outputs": [],
   "source": [
    "def veh_agg(df, crash_year):\n",
    "    \"\"\"\n",
    "    aggregate vehicle info\n",
    "\n",
    "    input\n",
    "    -----\n",
    "    df : pandas dataframe\n",
    "        df to be summarized\n",
    "\n",
    "    output\n",
    "    -----\n",
    "    df: pandas dataframe\n",
    "        aggregated df\n",
    "\n",
    "    \"\"\"\n",
    "    def sex(series):\n",
    "        for ele in series.tolist():\n",
    "            if ele > 1:\n",
    "                return True\n",
    "        return False\n",
    "\n",
    "    def young(series):\n",
    "        for ele in series.tolist():\n",
    "            if ele < 25:\n",
    "                return True\n",
    "        return False\n",
    "\n",
    "    def old(series):\n",
    "        for ele in series.tolist():\n",
    "            if ele > 65:\n",
    "                return True\n",
    "        return False\n",
    "\n",
    "    def drink(series):\n",
    "        for ele in series.tolist():\n",
    "            if ele == 1.0 or ele == 5.0:\n",
    "                return True\n",
    "        return False\n",
    "\n",
    "    def truck(series):\n",
    "        for ele in series.tolist():\n",
    "            if ele > 4:\n",
    "                return True\n",
    "        return False\n",
    "    \n",
    "    def old_car(series):\n",
    "        for ele in series.tolist():\n",
    "            model_year = 1900\n",
    "            if ele < 10:\n",
    "                model_year += (100 + ele)\n",
    "            elif ele < 20:\n",
    "                model_year += (100 + ele)\n",
    "            else:\n",
    "                model_year += (ele)\n",
    "            \n",
    "            if crash_year - model_year >= 15:\n",
    "                return True\n",
    "        return False\n",
    "    \n",
    "    df = df.groupby(['CASENO']).agg({'DRV_SEX': [sex],\n",
    "                            'DRV_AGE': [young, old],\n",
    "                            'vehtype': [truck],\n",
    "                            'vehyr': [old_car],\n",
    "                            # 'surf_typ': ,\n",
    "                            # 'drv_actn': ,\n",
    "                            'intox': [drink]\n",
    "                           })\n",
    "    df.columns = df.columns.get_level_values(1)\n",
    "    df = df.reset_index()\n",
    "    return df"
   ]
  },
  {
   "cell_type": "code",
   "execution_count": null,
   "metadata": {
    "hidden": true
   },
   "outputs": [],
   "source": [
    "veh_agg(veh[2017], 2017)"
   ]
  },
  {
   "cell_type": "code",
   "execution_count": null,
   "metadata": {
    "hidden": true
   },
   "outputs": [],
   "source": []
  },
  {
   "cell_type": "markdown",
   "metadata": {},
   "source": [
    "### analysis"
   ]
  },
  {
   "cell_type": "markdown",
   "metadata": {},
   "source": [
    "#### read, extract, combine"
   ]
  },
  {
   "cell_type": "code",
   "execution_count": null,
   "metadata": {
    "ExecuteTime": {
     "end_time": "2020-03-14T17:11:34.180101Z",
     "start_time": "2020-03-14T17:11:32.621307Z"
    }
   },
   "outputs": [],
   "source": [
    "crash = read_files(\"./merged\", '20')"
   ]
  },
  {
   "cell_type": "code",
   "execution_count": null,
   "metadata": {
    "ExecuteTime": {
     "end_time": "2020-03-14T17:11:37.331978Z",
     "start_time": "2020-03-14T17:11:37.268214Z"
    }
   },
   "outputs": [],
   "source": [
    "columns = [\n",
    "    'REPORT', 'ACCTYPE',\n",
    "    'TIME', 'WEEKDAY', 'RDSURF', 'LIGHT', 'weather',\n",
    "    'deg_curv',\n",
    "    'pct_grad',\n",
    "    'AADT', 'trkpcts', 'mvmt', 'RURURB', 'MED_TYPE', 'MEDWID', \n",
    "    'LSHL_TYP', 'LSHL_TY2', 'LSHLDWID', 'LSHL_WD2', 'RSHL_TYP', 'RSHL_TY2', 'RSHLDWID', 'RSHL_WD2',\n",
    "    'SURF_TYP', 'SURF_TY2', 'lanewid', 'rdwy_wid', 'FUNC_CLS',\n",
    "    'sex', 'young', 'old', 'drink', 'truck', 'old_car'\n",
    "]\n",
    "\n",
    "for year in crash:\n",
    "    df = crash[year]\n",
    "    crash[year] = df[columns]"
   ]
  },
  {
   "cell_type": "code",
   "execution_count": null,
   "metadata": {
    "ExecuteTime": {
     "end_time": "2020-03-14T17:11:37.561637Z",
     "start_time": "2020-03-14T17:11:37.489439Z"
    }
   },
   "outputs": [],
   "source": [
    "crash[2017]"
   ]
  },
  {
   "cell_type": "code",
   "execution_count": null,
   "metadata": {
    "ExecuteTime": {
     "end_time": "2020-03-14T17:11:48.932952Z",
     "start_time": "2020-03-14T17:11:48.923077Z"
    }
   },
   "outputs": [],
   "source": [
    "pd.unique(crash[2017]['weather'])"
   ]
  },
  {
   "cell_type": "markdown",
   "metadata": {},
   "source": [
    "#### focus on type 33\n",
    "***Strikes Appurtenance***<br>\n",
    "Need to drop NA values. \n",
    "+ Notice, **AADT**, **trkpcts**, **mvmt** have NA values. This is strongly undesirable;\n",
    "+ We drop rows with NA in those rows and thus retrieve 4,658 rows from 4,694 rows. That's not much loss;"
   ]
  },
  {
   "cell_type": "code",
   "execution_count": null,
   "metadata": {
    "ExecuteTime": {
     "end_time": "2020-03-14T03:41:27.156549Z",
     "start_time": "2020-03-14T03:41:27.082882Z"
    }
   },
   "outputs": [],
   "source": [
    "df = crash[2017]\n",
    "df = df[df.ACCTYPE == 33]\n",
    "# df = df.dropna()\n",
    "df"
   ]
  },
  {
   "cell_type": "code",
   "execution_count": null,
   "metadata": {
    "ExecuteTime": {
     "end_time": "2020-03-14T03:41:27.242017Z",
     "start_time": "2020-03-14T03:41:27.227599Z"
    }
   },
   "outputs": [],
   "source": [
    "df.isna().any()"
   ]
  },
  {
   "cell_type": "code",
   "execution_count": null,
   "metadata": {
    "ExecuteTime": {
     "end_time": "2020-03-14T03:41:27.887405Z",
     "start_time": "2020-03-14T03:41:27.817935Z"
    }
   },
   "outputs": [],
   "source": [
    "df.dropna(subset=['AADT', 'trkpcts', 'mvmt'])"
   ]
  },
  {
   "cell_type": "markdown",
   "metadata": {},
   "source": [
    "#### append and obtain the final large dataset"
   ]
  },
  {
   "cell_type": "code",
   "execution_count": null,
   "metadata": {
    "ExecuteTime": {
     "end_time": "2020-03-14T17:30:22.476199Z",
     "start_time": "2020-03-14T17:30:22.298551Z"
    }
   },
   "outputs": [],
   "source": [
    "df = crash[2013]\n",
    "df = df[df.ACCTYPE == 33]\n",
    "\n",
    "for year in range(2014, 2018):\n",
    "    tmp = crash[year]\n",
    "    tmp.weather = tmp.weather.replace({'.': '10'})\n",
    "    df = df.append(tmp[tmp.ACCTYPE == 33])\n",
    "\n",
    "print(\"Before dropping, has {} rows.\".format(df.shape[0]))\n",
    "df = df.dropna(subset=['AADT', 'trkpcts', 'mvmt'])\n",
    "print(\"After dropping, has {} rows.\".format(df.shape[0]))"
   ]
  },
  {
   "cell_type": "markdown",
   "metadata": {},
   "source": [
    "#### write out"
   ]
  },
  {
   "cell_type": "code",
   "execution_count": null,
   "metadata": {
    "ExecuteTime": {
     "end_time": "2020-03-14T17:30:29.014261Z",
     "start_time": "2020-03-14T17:30:28.725321Z"
    }
   },
   "outputs": [],
   "source": [
    "df.to_csv('./merged/final.csv', index=False)"
   ]
  },
  {
   "cell_type": "markdown",
   "metadata": {},
   "source": [
    "Clearly we can see now the missing are in the types, of mdium, left shoulder, right shoulder.<br>\n",
    "Interestingly, <br>\n",
    "+ *MEDWID* is non-zero but *MED_TYPE* is missing;\n",
    "+ <*LSHL_TYP*, *LSHL_TY2*> and <*RSHL_TYP*,*RSHL_TY2*> are missing for many cases;\n",
    "+ <*SURF_TYP*, *SURF_TY2*> also have a lot of missings;"
   ]
  },
  {
   "cell_type": "markdown",
   "metadata": {},
   "source": [
    "Maybe we remove the type attributes?<br>\n",
    "We just keep the width info and don't care about the types of materials."
   ]
  },
  {
   "cell_type": "markdown",
   "metadata": {},
   "source": [
    "### further delete type attributes"
   ]
  },
  {
   "cell_type": "code",
   "execution_count": null,
   "metadata": {
    "ExecuteTime": {
     "end_time": "2020-03-14T17:30:30.735573Z",
     "start_time": "2020-03-14T17:30:30.615526Z"
    }
   },
   "outputs": [],
   "source": [
    "df = pd.read_csv('./merged/final.csv')\n",
    "df.isna().any()"
   ]
  },
  {
   "cell_type": "code",
   "execution_count": null,
   "metadata": {
    "ExecuteTime": {
     "end_time": "2020-03-14T03:45:42.348269Z",
     "start_time": "2020-03-14T03:45:42.306788Z"
    }
   },
   "outputs": [],
   "source": [
    "df.isna().sum()"
   ]
  },
  {
   "cell_type": "code",
   "execution_count": null,
   "metadata": {
    "ExecuteTime": {
     "end_time": "2020-03-14T17:30:41.458483Z",
     "start_time": "2020-03-14T17:30:41.449647Z"
    }
   },
   "outputs": [],
   "source": [
    "df = df.drop(columns=['MED_TYPE', 'LSHL_TYP', 'LSHL_TY2', 'RSHL_TYP', 'RSHL_TY2', 'SURF_TY2'])"
   ]
  },
  {
   "cell_type": "code",
   "execution_count": null,
   "metadata": {
    "ExecuteTime": {
     "end_time": "2020-03-14T17:30:41.648389Z",
     "start_time": "2020-03-14T17:30:41.635449Z"
    }
   },
   "outputs": [],
   "source": [
    "df = df.dropna()"
   ]
  },
  {
   "cell_type": "code",
   "execution_count": null,
   "metadata": {
    "ExecuteTime": {
     "end_time": "2020-03-14T17:30:42.999441Z",
     "start_time": "2020-03-14T17:30:42.730477Z"
    }
   },
   "outputs": [],
   "source": [
    "df.to_csv('./merged/final_no_na.csv', index=False)"
   ]
  },
  {
   "cell_type": "markdown",
   "metadata": {},
   "source": [
    "### convert numerical to categorical and then create dummy variables"
   ]
  },
  {
   "cell_type": "markdown",
   "metadata": {},
   "source": [
    "The variables to be converted are:\n",
    "+ WEEKDAY;\n",
    "+ RDSURF;\n",
    "+ LIGHT;\n",
    "+ weather;\n",
    "+ RURURB;\n",
    "+ SURF_TYP;\n",
    "+ FUNC_CLS;"
   ]
  },
  {
   "cell_type": "code",
   "execution_count": null,
   "metadata": {
    "ExecuteTime": {
     "end_time": "2020-03-14T17:30:45.020401Z",
     "start_time": "2020-03-14T17:30:44.904438Z"
    }
   },
   "outputs": [],
   "source": [
    "df = pd.read_csv('./merged/final_no_na.csv')"
   ]
  },
  {
   "cell_type": "markdown",
   "metadata": {
    "heading_collapsed": true
   },
   "source": [
    "#### look at their unique values\n",
    "**Weather** needs some special attention."
   ]
  },
  {
   "cell_type": "code",
   "execution_count": null,
   "metadata": {
    "ExecuteTime": {
     "end_time": "2020-03-14T17:31:58.508404Z",
     "start_time": "2020-03-14T17:31:58.501018Z"
    },
    "hidden": true
   },
   "outputs": [],
   "source": [
    "pd.unique(df.WEEKDAY)"
   ]
  },
  {
   "cell_type": "code",
   "execution_count": null,
   "metadata": {
    "ExecuteTime": {
     "end_time": "2020-03-14T17:31:58.687152Z",
     "start_time": "2020-03-14T17:31:58.679341Z"
    },
    "hidden": true
   },
   "outputs": [],
   "source": [
    "pd.unique(df.RDSURF)"
   ]
  },
  {
   "cell_type": "code",
   "execution_count": null,
   "metadata": {
    "ExecuteTime": {
     "end_time": "2020-03-14T17:31:58.894697Z",
     "start_time": "2020-03-14T17:31:58.884248Z"
    },
    "hidden": true
   },
   "outputs": [],
   "source": [
    "pd.unique(df.LIGHT)"
   ]
  },
  {
   "cell_type": "code",
   "execution_count": null,
   "metadata": {
    "ExecuteTime": {
     "end_time": "2020-03-14T17:32:00.406868Z",
     "start_time": "2020-03-14T17:32:00.398075Z"
    },
    "hidden": true
   },
   "outputs": [],
   "source": [
    "pd.unique(df.weather)"
   ]
  },
  {
   "cell_type": "code",
   "execution_count": null,
   "metadata": {
    "ExecuteTime": {
     "end_time": "2020-03-14T17:32:00.580707Z",
     "start_time": "2020-03-14T17:32:00.557521Z"
    },
    "hidden": true
   },
   "outputs": [],
   "source": [
    "pd.unique(df.RURURB)"
   ]
  },
  {
   "cell_type": "code",
   "execution_count": null,
   "metadata": {
    "ExecuteTime": {
     "end_time": "2020-03-14T17:32:01.131821Z",
     "start_time": "2020-03-14T17:32:01.122624Z"
    },
    "hidden": true
   },
   "outputs": [],
   "source": [
    "pd.unique(df.SURF_TYP)"
   ]
  },
  {
   "cell_type": "code",
   "execution_count": null,
   "metadata": {
    "ExecuteTime": {
     "end_time": "2020-03-14T17:32:01.557935Z",
     "start_time": "2020-03-14T17:32:01.538655Z"
    },
    "hidden": true
   },
   "outputs": [],
   "source": [
    "pd.unique(df.FUNC_CLS)"
   ]
  },
  {
   "cell_type": "markdown",
   "metadata": {},
   "source": [
    "#### convert some to integers"
   ]
  },
  {
   "cell_type": "code",
   "execution_count": null,
   "metadata": {
    "ExecuteTime": {
     "end_time": "2020-03-14T17:31:40.837306Z",
     "start_time": "2020-03-14T17:31:40.815534Z"
    }
   },
   "outputs": [],
   "source": [
    "df = df.astype(\n",
    "    {'WEEKDAY':'int64', 'RDSURF':'int64', 'LIGHT':'int64', 'weather':'int64', 'FUNC_CLS':'int64'})"
   ]
  },
  {
   "cell_type": "code",
   "execution_count": 36,
   "metadata": {
    "ExecuteTime": {
     "end_time": "2020-03-15T17:36:20.435508Z",
     "start_time": "2020-03-15T17:36:20.412331Z"
    }
   },
   "outputs": [],
   "source": [
    "df['peak-hour'] = df['TIME'].apply(lambda x: 1 if (700 <= x <= 1000) or (1700 <= x <= 2000) else 0)"
   ]
  },
  {
   "cell_type": "code",
   "execution_count": 37,
   "metadata": {
    "ExecuteTime": {
     "end_time": "2020-03-15T17:36:20.605540Z",
     "start_time": "2020-03-15T17:36:20.587845Z"
    }
   },
   "outputs": [],
   "source": [
    "df['WEEKDAY'] = df['WEEKDAY'].apply(lambda x: 1 if x < 6 else 0)"
   ]
  },
  {
   "cell_type": "code",
   "execution_count": 38,
   "metadata": {
    "ExecuteTime": {
     "end_time": "2020-03-15T17:36:20.854348Z",
     "start_time": "2020-03-15T17:36:20.836540Z"
    }
   },
   "outputs": [
    {
     "name": "stderr",
     "output_type": "stream",
     "text": [
      "/Users/shuyiyin/anaconda/envs/syin/lib/python3.6/site-packages/ipykernel_launcher.py:2: SettingWithCopyWarning: \n",
      "A value is trying to be set on a copy of a slice from a DataFrame.\n",
      "Try using .loc[row_indexer,col_indexer] = value instead\n",
      "\n",
      "See the caveats in the documentation: https://pandas.pydata.org/pandas-docs/stable/user_guide/indexing.html#returning-a-view-versus-a-copy\n",
      "  \n"
     ]
    }
   ],
   "source": [
    "df = df[df['LIGHT'].isin([1,2,3,4,5,6])]\n",
    "df['LIGHT'] = df['LIGHT'].replace({5:4, 6:4})"
   ]
  },
  {
   "cell_type": "code",
   "execution_count": 40,
   "metadata": {
    "ExecuteTime": {
     "end_time": "2020-03-15T17:36:23.395366Z",
     "start_time": "2020-03-15T17:36:23.378323Z"
    }
   },
   "outputs": [],
   "source": [
    "df = df[df['AADT'] > 0]"
   ]
  },
  {
   "cell_type": "code",
   "execution_count": 41,
   "metadata": {
    "ExecuteTime": {
     "end_time": "2020-03-15T17:36:25.741432Z",
     "start_time": "2020-03-15T17:36:25.734610Z"
    }
   },
   "outputs": [],
   "source": [
    "df = df.drop(columns=['TIME'])"
   ]
  },
  {
   "cell_type": "code",
   "execution_count": 54,
   "metadata": {
    "ExecuteTime": {
     "end_time": "2020-03-15T18:00:42.755361Z",
     "start_time": "2020-03-15T18:00:42.718949Z"
    }
   },
   "outputs": [],
   "source": [
    "df = df.astype(\n",
    "    {'WEEKDAY':'category', 'RDSURF':'category', 'LIGHT':'category', \n",
    "     'weather':'category', 'RURURB':'category', 'SURF_TYP':'category',\n",
    "     'FUNC_CLS':'category', 'sex':'category', 'young':'category',\n",
    "     'old':'category', 'drink':'category', 'truck':'category',\n",
    "     'old_car':'category', 'peak-hour':'category'\n",
    "    })"
   ]
  },
  {
   "cell_type": "code",
   "execution_count": 43,
   "metadata": {
    "ExecuteTime": {
     "end_time": "2020-03-15T17:36:39.285124Z",
     "start_time": "2020-03-15T17:36:39.066107Z"
    }
   },
   "outputs": [],
   "source": [
    "df.to_csv('./merged/final_type_correct.csv', index=False)"
   ]
  },
  {
   "cell_type": "code",
   "execution_count": null,
   "metadata": {},
   "outputs": [],
   "source": []
  },
  {
   "cell_type": "markdown",
   "metadata": {},
   "source": [
    "### SMOTE"
   ]
  },
  {
   "cell_type": "code",
   "execution_count": 49,
   "metadata": {
    "ExecuteTime": {
     "end_time": "2020-03-15T17:53:02.699409Z",
     "start_time": "2020-03-15T17:53:02.694914Z"
    }
   },
   "outputs": [],
   "source": [
    "from imblearn.over_sampling import SMOTENC\n",
    "from sklearn.utils import resample\n",
    "from collections import Counter"
   ]
  },
  {
   "cell_type": "code",
   "execution_count": 51,
   "metadata": {
    "ExecuteTime": {
     "end_time": "2020-03-15T17:56:53.753802Z",
     "start_time": "2020-03-15T17:56:53.729638Z"
    }
   },
   "outputs": [],
   "source": [
    "# Separate majority and minority classes\n",
    "crash_1 = df[df.REPORT==1]\n",
    "crash_23 = df[df.REPORT!=1]\n",
    "\n",
    "# Downsample majority class\n",
    "crash_1_downsampled = resample(crash_1, \n",
    "                                 replace=False,    # sample without replacement\n",
    "                                 n_samples=4843,     # to match minority class\n",
    "                                 random_state=123) # reproducible results\n",
    " \n",
    "# Combine minority class with downsampled majority class\n",
    "crash_d = pd.concat([crash_1_downsampled, crash_23])"
   ]
  },
  {
   "cell_type": "code",
   "execution_count": 55,
   "metadata": {
    "ExecuteTime": {
     "end_time": "2020-03-15T18:02:03.270736Z",
     "start_time": "2020-03-15T18:02:03.263741Z"
    }
   },
   "outputs": [
    {
     "data": {
      "text/plain": [
       "Index(['REPORT', 'ACCTYPE', 'WEEKDAY', 'RDSURF', 'LIGHT', 'weather',\n",
       "       'deg_curv', 'pct_grad', 'AADT', 'trkpcts', 'mvmt', 'RURURB', 'MEDWID',\n",
       "       'LSHLDWID', 'LSHL_WD2', 'RSHLDWID', 'RSHL_WD2', 'SURF_TYP', 'lanewid',\n",
       "       'rdwy_wid', 'FUNC_CLS', 'sex', 'young', 'old', 'drink', 'truck',\n",
       "       'old_car', 'peak-hour'],\n",
       "      dtype='object')"
      ]
     },
     "execution_count": 55,
     "metadata": {},
     "output_type": "execute_result"
    }
   ],
   "source": [
    "crash_d.columns"
   ]
  },
  {
   "cell_type": "code",
   "execution_count": 56,
   "metadata": {
    "ExecuteTime": {
     "end_time": "2020-03-15T18:05:31.394001Z",
     "start_time": "2020-03-15T18:05:31.382609Z"
    }
   },
   "outputs": [],
   "source": [
    "reg_data = crash_d[['WEEKDAY','RDSURF','LIGHT','weather','RURURB','SURF_TYP',\n",
    "                    'FUNC_CLS','sex','young','old','drink','truck','old_car', 'peak-hour',\n",
    "                    'MEDWID','LSHLDWID','LSHL_WD2','RSHLDWID','RSHL_WD2','lanewid','rdwy_wid',\n",
    "                    'deg_curv', 'pct_grad', 'AADT', 'trkpcts', 'mvmt']]\n",
    "y = crash_d['REPORT']"
   ]
  },
  {
   "cell_type": "code",
   "execution_count": 57,
   "metadata": {
    "ExecuteTime": {
     "end_time": "2020-03-15T18:06:09.261545Z",
     "start_time": "2020-03-15T18:06:07.354665Z"
    }
   },
   "outputs": [],
   "source": [
    "sm = SMOTENC(random_state=42, categorical_features=[0,1,2,3,4,5,6,7,8,9,10,11,12,13])\n",
    "reg_data_res, y_res = sm.fit_resample(reg_data, y)\n",
    "C = Counter(y_res)"
   ]
  },
  {
   "cell_type": "code",
   "execution_count": 58,
   "metadata": {
    "ExecuteTime": {
     "end_time": "2020-03-15T18:06:16.980008Z",
     "start_time": "2020-03-15T18:06:16.961383Z"
    }
   },
   "outputs": [
    {
     "name": "stdout",
     "output_type": "stream",
     "text": [
      "Counter({1: 4843, 2: 4843, 3: 4843})\n",
      "(14529, 26)\n",
      "(14529,)\n"
     ]
    }
   ],
   "source": [
    "print(C)\n",
    "print(reg_data_res.shape)\n",
    "print(y_res.shape)"
   ]
  },
  {
   "cell_type": "code",
   "execution_count": 59,
   "metadata": {
    "ExecuteTime": {
     "end_time": "2020-03-15T18:16:12.101760Z",
     "start_time": "2020-03-15T18:16:12.082197Z"
    }
   },
   "outputs": [
    {
     "name": "stdout",
     "output_type": "stream",
     "text": [
      "(14529, 26)\n",
      "       REPORT\n",
      "0           1\n",
      "1           1\n",
      "2           1\n",
      "3           1\n",
      "4           1\n",
      "...       ...\n",
      "14524       3\n",
      "14525       3\n",
      "14526       3\n",
      "14527       3\n",
      "14528       3\n",
      "\n",
      "[14529 rows x 1 columns]\n"
     ]
    }
   ],
   "source": [
    "reg_data_x = pd.DataFrame(data=reg_data_res)\n",
    "reg_data_y = pd.DataFrame(data=y_res)\n",
    "print(reg_data_x.shape)\n",
    "print(reg_data_y)\n",
    "reg_data = pd.concat([reg_data_x, reg_data_y], axis=1, sort=False)"
   ]
  },
  {
   "cell_type": "code",
   "execution_count": 60,
   "metadata": {
    "ExecuteTime": {
     "end_time": "2020-03-15T18:16:34.968258Z",
     "start_time": "2020-03-15T18:16:34.787156Z"
    }
   },
   "outputs": [],
   "source": [
    "reg_data.to_csv('./merged/final_smote.csv', index = False)"
   ]
  },
  {
   "cell_type": "markdown",
   "metadata": {},
   "source": [
    "### create dummy and regression"
   ]
  },
  {
   "cell_type": "code",
   "execution_count": 44,
   "metadata": {
    "ExecuteTime": {
     "end_time": "2020-03-15T17:37:24.629201Z",
     "start_time": "2020-03-15T17:37:24.550269Z"
    }
   },
   "outputs": [],
   "source": [
    "df = pd.read_csv('./merged/final_type_correct.csv')"
   ]
  },
  {
   "cell_type": "code",
   "execution_count": 45,
   "metadata": {
    "ExecuteTime": {
     "end_time": "2020-03-15T17:37:24.906844Z",
     "start_time": "2020-03-15T17:37:24.749903Z"
    }
   },
   "outputs": [
    {
     "data": {
      "text/html": [
       "<div>\n",
       "<style scoped>\n",
       "    .dataframe tbody tr th:only-of-type {\n",
       "        vertical-align: middle;\n",
       "    }\n",
       "\n",
       "    .dataframe tbody tr th {\n",
       "        vertical-align: top;\n",
       "    }\n",
       "\n",
       "    .dataframe thead th {\n",
       "        text-align: right;\n",
       "    }\n",
       "</style>\n",
       "<table border=\"1\" class=\"dataframe\">\n",
       "  <thead>\n",
       "    <tr style=\"text-align: right;\">\n",
       "      <th></th>\n",
       "      <th>REPORT</th>\n",
       "      <th>ACCTYPE</th>\n",
       "      <th>WEEKDAY</th>\n",
       "      <th>RDSURF</th>\n",
       "      <th>LIGHT</th>\n",
       "      <th>weather</th>\n",
       "      <th>deg_curv</th>\n",
       "      <th>pct_grad</th>\n",
       "      <th>AADT</th>\n",
       "      <th>trkpcts</th>\n",
       "      <th>...</th>\n",
       "      <th>lanewid</th>\n",
       "      <th>rdwy_wid</th>\n",
       "      <th>FUNC_CLS</th>\n",
       "      <th>sex</th>\n",
       "      <th>young</th>\n",
       "      <th>old</th>\n",
       "      <th>drink</th>\n",
       "      <th>truck</th>\n",
       "      <th>old_car</th>\n",
       "      <th>peak-hour</th>\n",
       "    </tr>\n",
       "  </thead>\n",
       "  <tbody>\n",
       "    <tr>\n",
       "      <th>0</th>\n",
       "      <td>1</td>\n",
       "      <td>33</td>\n",
       "      <td>0</td>\n",
       "      <td>2</td>\n",
       "      <td>4</td>\n",
       "      <td>3</td>\n",
       "      <td>43.74</td>\n",
       "      <td>3.87</td>\n",
       "      <td>23213.0</td>\n",
       "      <td>3.75</td>\n",
       "      <td>...</td>\n",
       "      <td>13</td>\n",
       "      <td>52</td>\n",
       "      <td>52</td>\n",
       "      <td>0</td>\n",
       "      <td>0</td>\n",
       "      <td>0</td>\n",
       "      <td>0</td>\n",
       "      <td>0</td>\n",
       "      <td>1</td>\n",
       "      <td>0</td>\n",
       "    </tr>\n",
       "    <tr>\n",
       "      <th>1</th>\n",
       "      <td>2</td>\n",
       "      <td>33</td>\n",
       "      <td>1</td>\n",
       "      <td>2</td>\n",
       "      <td>3</td>\n",
       "      <td>2</td>\n",
       "      <td>43.74</td>\n",
       "      <td>0.19</td>\n",
       "      <td>21132.0</td>\n",
       "      <td>0.00</td>\n",
       "      <td>...</td>\n",
       "      <td>12</td>\n",
       "      <td>48</td>\n",
       "      <td>52</td>\n",
       "      <td>1</td>\n",
       "      <td>0</td>\n",
       "      <td>0</td>\n",
       "      <td>0</td>\n",
       "      <td>0</td>\n",
       "      <td>1</td>\n",
       "      <td>0</td>\n",
       "    </tr>\n",
       "    <tr>\n",
       "      <th>2</th>\n",
       "      <td>1</td>\n",
       "      <td>33</td>\n",
       "      <td>1</td>\n",
       "      <td>2</td>\n",
       "      <td>1</td>\n",
       "      <td>3</td>\n",
       "      <td>17.74</td>\n",
       "      <td>0.19</td>\n",
       "      <td>21132.0</td>\n",
       "      <td>0.00</td>\n",
       "      <td>...</td>\n",
       "      <td>16</td>\n",
       "      <td>48</td>\n",
       "      <td>52</td>\n",
       "      <td>0</td>\n",
       "      <td>1</td>\n",
       "      <td>0</td>\n",
       "      <td>0</td>\n",
       "      <td>0</td>\n",
       "      <td>0</td>\n",
       "      <td>1</td>\n",
       "    </tr>\n",
       "    <tr>\n",
       "      <th>3</th>\n",
       "      <td>2</td>\n",
       "      <td>33</td>\n",
       "      <td>0</td>\n",
       "      <td>1</td>\n",
       "      <td>1</td>\n",
       "      <td>1</td>\n",
       "      <td>0.93</td>\n",
       "      <td>2.76</td>\n",
       "      <td>21132.0</td>\n",
       "      <td>0.00</td>\n",
       "      <td>...</td>\n",
       "      <td>18</td>\n",
       "      <td>54</td>\n",
       "      <td>52</td>\n",
       "      <td>0</td>\n",
       "      <td>0</td>\n",
       "      <td>0</td>\n",
       "      <td>0</td>\n",
       "      <td>1</td>\n",
       "      <td>0</td>\n",
       "      <td>1</td>\n",
       "    </tr>\n",
       "    <tr>\n",
       "      <th>4</th>\n",
       "      <td>1</td>\n",
       "      <td>33</td>\n",
       "      <td>0</td>\n",
       "      <td>1</td>\n",
       "      <td>4</td>\n",
       "      <td>1</td>\n",
       "      <td>0.93</td>\n",
       "      <td>2.76</td>\n",
       "      <td>21132.0</td>\n",
       "      <td>0.00</td>\n",
       "      <td>...</td>\n",
       "      <td>18</td>\n",
       "      <td>54</td>\n",
       "      <td>52</td>\n",
       "      <td>1</td>\n",
       "      <td>1</td>\n",
       "      <td>0</td>\n",
       "      <td>0</td>\n",
       "      <td>0</td>\n",
       "      <td>0</td>\n",
       "      <td>0</td>\n",
       "    </tr>\n",
       "    <tr>\n",
       "      <th>...</th>\n",
       "      <td>...</td>\n",
       "      <td>...</td>\n",
       "      <td>...</td>\n",
       "      <td>...</td>\n",
       "      <td>...</td>\n",
       "      <td>...</td>\n",
       "      <td>...</td>\n",
       "      <td>...</td>\n",
       "      <td>...</td>\n",
       "      <td>...</td>\n",
       "      <td>...</td>\n",
       "      <td>...</td>\n",
       "      <td>...</td>\n",
       "      <td>...</td>\n",
       "      <td>...</td>\n",
       "      <td>...</td>\n",
       "      <td>...</td>\n",
       "      <td>...</td>\n",
       "      <td>...</td>\n",
       "      <td>...</td>\n",
       "      <td>...</td>\n",
       "    </tr>\n",
       "    <tr>\n",
       "      <th>20782</th>\n",
       "      <td>1</td>\n",
       "      <td>33</td>\n",
       "      <td>1</td>\n",
       "      <td>2</td>\n",
       "      <td>1</td>\n",
       "      <td>4</td>\n",
       "      <td>0.00</td>\n",
       "      <td>2.00</td>\n",
       "      <td>3223.0</td>\n",
       "      <td>24.50</td>\n",
       "      <td>...</td>\n",
       "      <td>19</td>\n",
       "      <td>38</td>\n",
       "      <td>43</td>\n",
       "      <td>1</td>\n",
       "      <td>0</td>\n",
       "      <td>0</td>\n",
       "      <td>0</td>\n",
       "      <td>0</td>\n",
       "      <td>0</td>\n",
       "      <td>0</td>\n",
       "    </tr>\n",
       "    <tr>\n",
       "      <th>20783</th>\n",
       "      <td>1</td>\n",
       "      <td>33</td>\n",
       "      <td>0</td>\n",
       "      <td>1</td>\n",
       "      <td>1</td>\n",
       "      <td>1</td>\n",
       "      <td>1.66</td>\n",
       "      <td>0.32</td>\n",
       "      <td>5783.0</td>\n",
       "      <td>18.96</td>\n",
       "      <td>...</td>\n",
       "      <td>12</td>\n",
       "      <td>24</td>\n",
       "      <td>43</td>\n",
       "      <td>0</td>\n",
       "      <td>1</td>\n",
       "      <td>0</td>\n",
       "      <td>0</td>\n",
       "      <td>0</td>\n",
       "      <td>1</td>\n",
       "      <td>1</td>\n",
       "    </tr>\n",
       "    <tr>\n",
       "      <th>20784</th>\n",
       "      <td>1</td>\n",
       "      <td>33</td>\n",
       "      <td>1</td>\n",
       "      <td>2</td>\n",
       "      <td>3</td>\n",
       "      <td>2</td>\n",
       "      <td>1.66</td>\n",
       "      <td>0.32</td>\n",
       "      <td>5783.0</td>\n",
       "      <td>18.96</td>\n",
       "      <td>...</td>\n",
       "      <td>12</td>\n",
       "      <td>24</td>\n",
       "      <td>43</td>\n",
       "      <td>0</td>\n",
       "      <td>1</td>\n",
       "      <td>0</td>\n",
       "      <td>0</td>\n",
       "      <td>0</td>\n",
       "      <td>1</td>\n",
       "      <td>0</td>\n",
       "    </tr>\n",
       "    <tr>\n",
       "      <th>20785</th>\n",
       "      <td>1</td>\n",
       "      <td>33</td>\n",
       "      <td>1</td>\n",
       "      <td>4</td>\n",
       "      <td>2</td>\n",
       "      <td>1</td>\n",
       "      <td>0.00</td>\n",
       "      <td>1.66</td>\n",
       "      <td>5783.0</td>\n",
       "      <td>18.96</td>\n",
       "      <td>...</td>\n",
       "      <td>19</td>\n",
       "      <td>38</td>\n",
       "      <td>43</td>\n",
       "      <td>0</td>\n",
       "      <td>1</td>\n",
       "      <td>0</td>\n",
       "      <td>0</td>\n",
       "      <td>0</td>\n",
       "      <td>0</td>\n",
       "      <td>1</td>\n",
       "    </tr>\n",
       "    <tr>\n",
       "      <th>20786</th>\n",
       "      <td>1</td>\n",
       "      <td>33</td>\n",
       "      <td>1</td>\n",
       "      <td>2</td>\n",
       "      <td>1</td>\n",
       "      <td>1</td>\n",
       "      <td>0.00</td>\n",
       "      <td>0.00</td>\n",
       "      <td>4967.0</td>\n",
       "      <td>19.72</td>\n",
       "      <td>...</td>\n",
       "      <td>12</td>\n",
       "      <td>24</td>\n",
       "      <td>43</td>\n",
       "      <td>0</td>\n",
       "      <td>0</td>\n",
       "      <td>1</td>\n",
       "      <td>0</td>\n",
       "      <td>0</td>\n",
       "      <td>0</td>\n",
       "      <td>1</td>\n",
       "    </tr>\n",
       "  </tbody>\n",
       "</table>\n",
       "<p>20787 rows × 28 columns</p>\n",
       "</div>"
      ],
      "text/plain": [
       "       REPORT  ACCTYPE  WEEKDAY  RDSURF  LIGHT  weather  deg_curv  pct_grad  \\\n",
       "0           1       33        0       2      4        3     43.74      3.87   \n",
       "1           2       33        1       2      3        2     43.74      0.19   \n",
       "2           1       33        1       2      1        3     17.74      0.19   \n",
       "3           2       33        0       1      1        1      0.93      2.76   \n",
       "4           1       33        0       1      4        1      0.93      2.76   \n",
       "...       ...      ...      ...     ...    ...      ...       ...       ...   \n",
       "20782       1       33        1       2      1        4      0.00      2.00   \n",
       "20783       1       33        0       1      1        1      1.66      0.32   \n",
       "20784       1       33        1       2      3        2      1.66      0.32   \n",
       "20785       1       33        1       4      2        1      0.00      1.66   \n",
       "20786       1       33        1       2      1        1      0.00      0.00   \n",
       "\n",
       "          AADT  trkpcts  ...  lanewid rdwy_wid  FUNC_CLS  sex  young  old  \\\n",
       "0      23213.0     3.75  ...       13       52        52    0      0    0   \n",
       "1      21132.0     0.00  ...       12       48        52    1      0    0   \n",
       "2      21132.0     0.00  ...       16       48        52    0      1    0   \n",
       "3      21132.0     0.00  ...       18       54        52    0      0    0   \n",
       "4      21132.0     0.00  ...       18       54        52    1      1    0   \n",
       "...        ...      ...  ...      ...      ...       ...  ...    ...  ...   \n",
       "20782   3223.0    24.50  ...       19       38        43    1      0    0   \n",
       "20783   5783.0    18.96  ...       12       24        43    0      1    0   \n",
       "20784   5783.0    18.96  ...       12       24        43    0      1    0   \n",
       "20785   5783.0    18.96  ...       19       38        43    0      1    0   \n",
       "20786   4967.0    19.72  ...       12       24        43    0      0    1   \n",
       "\n",
       "       drink truck  old_car  peak-hour  \n",
       "0          0     0        1          0  \n",
       "1          0     0        1          0  \n",
       "2          0     0        0          1  \n",
       "3          0     1        0          1  \n",
       "4          0     0        0          0  \n",
       "...      ...   ...      ...        ...  \n",
       "20782      0     0        0          0  \n",
       "20783      0     0        1          1  \n",
       "20784      0     0        1          0  \n",
       "20785      0     0        0          1  \n",
       "20786      0     0        0          1  \n",
       "\n",
       "[20787 rows x 28 columns]"
      ]
     },
     "execution_count": 45,
     "metadata": {},
     "output_type": "execute_result"
    }
   ],
   "source": [
    "df"
   ]
  },
  {
   "cell_type": "code",
   "execution_count": 3,
   "metadata": {
    "ExecuteTime": {
     "end_time": "2020-03-14T21:35:00.077878Z",
     "start_time": "2020-03-14T21:35:00.037439Z"
    }
   },
   "outputs": [],
   "source": [
    "df_log = pd.get_dummies(df, columns=['WEEKDAY', 'RDSURF', 'LIGHT', 'weather', 'RURURB', 'SURF_TYP', 'FUNC_CLS'])"
   ]
  },
  {
   "cell_type": "markdown",
   "metadata": {},
   "source": [
    "#### learning\n",
    "I think the sklearn logistic regression can handle this by specifying the **class_weight** as **balanced**.\n",
    "+ [sklarn logistic regression](https://scikit-learn.org/stable/modules/generated/sklearn.linear_model.LogisticRegression.html)\n",
    "+ [a blog](https://towardsdatascience.com/machine-learning-multiclass-classification-with-imbalanced-data-set-29f6a177c1a)\n",
    "+ [blog code](https://github.com/javaidnabi31/Multi-class-with-imbalanced-dataset-classification/blob/master/20-news-group-classification.ipynb)\n",
    "+ [get dummies](https://pandas.pydata.org/pandas-docs/stable/reference/api/pandas.get_dummies.html)"
   ]
  },
  {
   "cell_type": "code",
   "execution_count": 4,
   "metadata": {
    "ExecuteTime": {
     "end_time": "2020-03-14T21:35:01.906358Z",
     "start_time": "2020-03-14T21:35:01.357283Z"
    }
   },
   "outputs": [],
   "source": [
    "from sklearn.linear_model import LogisticRegression\n",
    "from sklearn.linear_model import LogisticRegressionCV"
   ]
  },
  {
   "cell_type": "code",
   "execution_count": 5,
   "metadata": {
    "ExecuteTime": {
     "end_time": "2020-03-14T21:35:01.925608Z",
     "start_time": "2020-03-14T21:35:01.909492Z"
    }
   },
   "outputs": [],
   "source": [
    "y = df_log['REPORT']\n",
    "X = df_log.drop(columns=['REPORT', 'ACCTYPE'])"
   ]
  },
  {
   "cell_type": "code",
   "execution_count": 6,
   "metadata": {
    "ExecuteTime": {
     "end_time": "2020-03-14T21:35:01.937915Z",
     "start_time": "2020-03-14T21:35:01.931632Z"
    }
   },
   "outputs": [],
   "source": [
    "msk = np.random.rand(len(df)) < 0.8"
   ]
  },
  {
   "cell_type": "code",
   "execution_count": 7,
   "metadata": {
    "ExecuteTime": {
     "end_time": "2020-03-14T21:35:02.156299Z",
     "start_time": "2020-03-14T21:35:02.141777Z"
    }
   },
   "outputs": [],
   "source": [
    "X_train = X[msk]\n",
    "X_test = X[~msk]\n",
    "y_train = y[msk]\n",
    "y_test = y[~msk]"
   ]
  },
  {
   "cell_type": "markdown",
   "metadata": {},
   "source": [
    "##### multinomial logistic"
   ]
  },
  {
   "cell_type": "code",
   "execution_count": 8,
   "metadata": {
    "ExecuteTime": {
     "end_time": "2020-03-14T21:35:13.074717Z",
     "start_time": "2020-03-14T21:35:03.202235Z"
    }
   },
   "outputs": [
    {
     "name": "stderr",
     "output_type": "stream",
     "text": [
      "/Users/shuyiyin/anaconda/envs/syin/lib/python3.6/site-packages/scipy/optimize/linesearch.py:466: LineSearchWarning: The line search algorithm did not converge\n",
      "  warn('The line search algorithm did not converge', LineSearchWarning)\n",
      "/Users/shuyiyin/anaconda/envs/syin/lib/python3.6/site-packages/scipy/optimize/linesearch.py:314: LineSearchWarning: The line search algorithm did not converge\n",
      "  warn('The line search algorithm did not converge', LineSearchWarning)\n",
      "/Users/shuyiyin/anaconda/envs/syin/lib/python3.6/site-packages/sklearn/utils/optimize.py:203: ConvergenceWarning: newton-cg failed to converge. Increase the number of iterations.\n",
      "  \"number of iterations.\", ConvergenceWarning)\n"
     ]
    }
   ],
   "source": [
    "clf = LogisticRegression(multi_class='multinomial',\n",
    "                         class_weight='balanced',solver='newton-cg',\n",
    "                         penalty='none'\n",
    "                        ).fit(X_train, y_train)"
   ]
  },
  {
   "cell_type": "code",
   "execution_count": 9,
   "metadata": {
    "ExecuteTime": {
     "end_time": "2020-03-14T21:35:13.108126Z",
     "start_time": "2020-03-14T21:35:13.082921Z"
    }
   },
   "outputs": [
    {
     "data": {
      "text/plain": [
       "0.49124484551485087"
      ]
     },
     "execution_count": 9,
     "metadata": {},
     "output_type": "execute_result"
    }
   ],
   "source": [
    "clf.score(X_train, y_train)"
   ]
  },
  {
   "cell_type": "code",
   "execution_count": 10,
   "metadata": {
    "ExecuteTime": {
     "end_time": "2020-03-14T21:35:13.131684Z",
     "start_time": "2020-03-14T21:35:13.116415Z"
    }
   },
   "outputs": [],
   "source": [
    "prediction = clf.predict(X_test)"
   ]
  },
  {
   "cell_type": "markdown",
   "metadata": {},
   "source": [
    "##### confusion matrix"
   ]
  },
  {
   "cell_type": "code",
   "execution_count": 11,
   "metadata": {
    "ExecuteTime": {
     "end_time": "2020-03-14T21:35:13.148637Z",
     "start_time": "2020-03-14T21:35:13.135446Z"
    }
   },
   "outputs": [],
   "source": [
    "from sklearn.metrics import confusion_matrix\n",
    "import itertools"
   ]
  },
  {
   "cell_type": "code",
   "execution_count": 1,
   "metadata": {
    "ExecuteTime": {
     "end_time": "2020-03-16T00:57:17.135227Z",
     "start_time": "2020-03-16T00:57:16.985027Z"
    }
   },
   "outputs": [
    {
     "ename": "NameError",
     "evalue": "name 'confusion_matrix' is not defined",
     "output_type": "error",
     "traceback": [
      "\u001b[0;31m---------------------------------------------------------------------------\u001b[0m",
      "\u001b[0;31mNameError\u001b[0m                                 Traceback (most recent call last)",
      "\u001b[0;32m<ipython-input-1-386cf4ddd000>\u001b[0m in \u001b[0;36m<module>\u001b[0;34m\u001b[0m\n\u001b[0;32m----> 1\u001b[0;31m \u001b[0mcnf_matrix\u001b[0m \u001b[0;34m=\u001b[0m \u001b[0mconfusion_matrix\u001b[0m\u001b[0;34m(\u001b[0m\u001b[0my_test\u001b[0m\u001b[0;34m,\u001b[0m \u001b[0mprediction\u001b[0m\u001b[0;34m)\u001b[0m\u001b[0;34m\u001b[0m\u001b[0m\n\u001b[0m\u001b[1;32m      2\u001b[0m \u001b[0;34m\u001b[0m\u001b[0m\n\u001b[1;32m      3\u001b[0m \u001b[0mfig\u001b[0m \u001b[0;34m=\u001b[0m \u001b[0mplt\u001b[0m\u001b[0;34m.\u001b[0m\u001b[0mfigure\u001b[0m\u001b[0;34m(\u001b[0m\u001b[0mfigsize\u001b[0m\u001b[0;34m=\u001b[0m\u001b[0;34m(\u001b[0m\u001b[0;36m6\u001b[0m\u001b[0;34m,\u001b[0m\u001b[0;36m6\u001b[0m\u001b[0;34m)\u001b[0m\u001b[0;34m)\u001b[0m\u001b[0;34m\u001b[0m\u001b[0m\n\u001b[1;32m      4\u001b[0m \u001b[0;31m# fig.set_size_inches(14, 12, forward=True)\u001b[0m\u001b[0;34m\u001b[0m\u001b[0;34m\u001b[0m\u001b[0m\n\u001b[1;32m      5\u001b[0m \u001b[0;31m# fig.align_labels()\u001b[0m\u001b[0;34m\u001b[0m\u001b[0;34m\u001b[0m\u001b[0m\n",
      "\u001b[0;31mNameError\u001b[0m: name 'confusion_matrix' is not defined"
     ]
    }
   ],
   "source": [
    "cnf_matrix = confusion_matrix(y_test, prediction)\n",
    "\n",
    "fig = plt.figure(figsize=(6,6))\n",
    "# fig.set_size_inches(14, 12, forward=True)\n",
    "# fig.align_labels()\n",
    "# fig.subplots_adjust(left=0.0, right=1.0, bottom=0.0, top=1.0)\n",
    "\n",
    "cm = cnf_matrix\n",
    "normalize = True\n",
    "classes = ['PDO','INJ','FAT']\n",
    "\n",
    "if normalize:\n",
    "    cm = cm.astype('float') / cm.sum(axis=1)[:, np.newaxis]\n",
    "    print(\"Normalized confusion matrix\")\n",
    "else:\n",
    "    print('Confusion matrix, without normalization')\n",
    "\n",
    "plt.imshow(cm, interpolation='nearest', cmap=plt.cm.Blues)\n",
    "\n",
    "plt.xlim(-0.5, 2.5)\n",
    "plt.ylim(-0.5, 2.5)\n",
    "\n",
    "plt.xticks([0,1,2], classes, fontsize=15)\n",
    "plt.yticks([0,1,2], classes, fontsize=15)\n",
    "\n",
    "fmt = '.2f' if normalize else 'd'\n",
    "thresh = cm.max() / 2.\n",
    "for i, j in itertools.product(range(cm.shape[0]), range(cm.shape[1])):\n",
    "    plt.text(j, i, format(cm[i, j], fmt),\n",
    "             horizontalalignment=\"center\",\n",
    "             color=\"white\" if cm[i, j] > thresh else \"black\",\n",
    "             fontsize=20\n",
    "            )\n",
    "\n",
    "# plt.tight_layout()\n",
    "plt.ylabel('True label', fontsize=18)\n",
    "plt.xlabel('Predicted label', fontsize=18)\n",
    "plt.title('Confusion matrix of multinomial logistic modelling', fontsize=22)\n",
    "\n",
    "plt.show()"
   ]
  },
  {
   "cell_type": "markdown",
   "metadata": {
    "heading_collapsed": true
   },
   "source": [
    "##### multinomial logistic cv"
   ]
  },
  {
   "cell_type": "code",
   "execution_count": null,
   "metadata": {
    "ExecuteTime": {
     "end_time": "2020-03-14T21:26:35.293225Z",
     "start_time": "2020-03-14T21:26:30.649440Z"
    },
    "hidden": true,
    "scrolled": true
   },
   "outputs": [],
   "source": [
    "clf_cv = LogisticRegressionCV(cv=5,multi_class='multinomial', random_state=0,\n",
    "                              class_weight='balanced',solver='newton-cg',\n",
    "                              max_iter=200\n",
    "                        ).fit(X, y)"
   ]
  },
  {
   "cell_type": "code",
   "execution_count": null,
   "metadata": {
    "ExecuteTime": {
     "end_time": "2020-03-14T20:41:27.653888Z",
     "start_time": "2020-03-14T20:41:27.640249Z"
    },
    "hidden": true
   },
   "outputs": [],
   "source": [
    "clf_cv.score(X, y)"
   ]
  },
  {
   "cell_type": "markdown",
   "metadata": {
    "heading_collapsed": true
   },
   "source": [
    "##### roc curve\n",
    "[When to use ROC: balance](https://machinelearningmastery.com/roc-curves-and-precision-recall-curves-for-classification-in-python/)"
   ]
  },
  {
   "cell_type": "code",
   "execution_count": 14,
   "metadata": {
    "ExecuteTime": {
     "end_time": "2020-03-14T21:35:29.784330Z",
     "start_time": "2020-03-14T21:35:29.776396Z"
    },
    "hidden": true
   },
   "outputs": [
    {
     "data": {
      "text/plain": [
       "array([1, 2, 3])"
      ]
     },
     "execution_count": 14,
     "metadata": {},
     "output_type": "execute_result"
    }
   ],
   "source": [
    "pd.unique(y_train)"
   ]
  },
  {
   "cell_type": "code",
   "execution_count": 15,
   "metadata": {
    "ExecuteTime": {
     "end_time": "2020-03-14T21:35:51.738429Z",
     "start_time": "2020-03-14T21:35:51.725802Z"
    },
    "hidden": true
   },
   "outputs": [],
   "source": [
    "from sklearn.preprocessing import label_binarize\n",
    "from sklearn.multiclass import OneVsRestClassifier\n",
    "\n",
    "y_train_bin = label_binarize(y_train, classes=[1, 2, 3])\n",
    "y_test_bin = label_binarize(y_test, classes=[1, 2, 3])"
   ]
  },
  {
   "cell_type": "markdown",
   "metadata": {
    "hidden": true
   },
   "source": [
    "[sklearn logistic](https://scikit-learn.org/stable/modules/generated/sklearn.linear_model.LogisticRegression.html)"
   ]
  },
  {
   "cell_type": "code",
   "execution_count": 51,
   "metadata": {
    "ExecuteTime": {
     "end_time": "2020-03-14T21:47:27.820176Z",
     "start_time": "2020-03-14T21:47:26.196055Z"
    },
    "hidden": true,
    "scrolled": true
   },
   "outputs": [],
   "source": [
    "n_classes = 3\n",
    "\n",
    "# Learn to predict each class against the other\n",
    "classifier = OneVsRestClassifier(\n",
    "    LogisticRegression(\n",
    "        class_weight='balanced',solver='liblinear',penalty='l2'))\n",
    "y_score = classifier.fit(X_train, y_train_bin).decision_function(X_test)"
   ]
  },
  {
   "cell_type": "code",
   "execution_count": 52,
   "metadata": {
    "ExecuteTime": {
     "end_time": "2020-03-14T21:47:28.327730Z",
     "start_time": "2020-03-14T21:47:28.307902Z"
    },
    "hidden": true
   },
   "outputs": [],
   "source": [
    "from sklearn.metrics import roc_curve, auc\n",
    "from scipy import interp\n",
    "from itertools import cycle\n",
    "\n",
    "# Compute ROC curve and ROC area for each class\n",
    "fpr = dict()\n",
    "tpr = dict()\n",
    "roc_auc = dict()\n",
    "for i in range(n_classes):\n",
    "    fpr[i], tpr[i], _ = roc_curve(y_test_bin[:, i], y_score[:, i])\n",
    "    roc_auc[i] = auc(fpr[i], tpr[i])\n",
    "\n",
    "# Compute micro-average ROC curve and ROC area\n",
    "fpr[\"micro\"], tpr[\"micro\"], _ = roc_curve(y_test_bin.ravel(), y_score.ravel())\n",
    "roc_auc[\"micro\"] = auc(fpr[\"micro\"], tpr[\"micro\"])"
   ]
  },
  {
   "cell_type": "code",
   "execution_count": 53,
   "metadata": {
    "ExecuteTime": {
     "end_time": "2020-03-14T21:47:29.358409Z",
     "start_time": "2020-03-14T21:47:28.835886Z"
    },
    "hidden": true
   },
   "outputs": [
    {
     "data": {
      "image/png": "[encoded data removed]",
      "text/plain": [
       "<Figure size 1008x720 with 1 Axes>"
      ]
     },
     "metadata": {
      "needs_background": "light"
     },
     "output_type": "display_data"
    }
   ],
   "source": [
    "lw = 4\n",
    "# First aggregate all false positive rates\n",
    "all_fpr = np.unique(np.concatenate([fpr[i] for i in range(n_classes)]))\n",
    "\n",
    "# Then interpolate all ROC curves at this points\n",
    "mean_tpr = np.zeros_like(all_fpr)\n",
    "for i in range(n_classes):\n",
    "    mean_tpr += interp(all_fpr, fpr[i], tpr[i])\n",
    "\n",
    "# Finally average it and compute AUC\n",
    "mean_tpr /= n_classes\n",
    "\n",
    "fpr[\"macro\"] = all_fpr\n",
    "tpr[\"macro\"] = mean_tpr\n",
    "roc_auc[\"macro\"] = auc(fpr[\"macro\"], tpr[\"macro\"])\n",
    "\n",
    "# Plot all ROC curves\n",
    "plt.figure(figsize=(14,10))\n",
    "plt.plot(fpr[\"micro\"], tpr[\"micro\"],\n",
    "         label='micro-average ROC curve (area = {0:0.2f})'\n",
    "               ''.format(roc_auc[\"micro\"]),\n",
    "         color='deeppink', linestyle=':', linewidth=4)\n",
    "\n",
    "plt.plot(fpr[\"macro\"], tpr[\"macro\"],\n",
    "         label='macro-average ROC curve (area = {0:0.2f})'\n",
    "               ''.format(roc_auc[\"macro\"]),\n",
    "         color='navy', linestyle=':', linewidth=4)\n",
    "\n",
    "colors = cycle(['aqua', 'darkorange', 'cornflowerblue'])\n",
    "for i, color in zip(range(n_classes), colors):\n",
    "    plt.plot(fpr[i], tpr[i], color=color, lw=lw,\n",
    "             label='ROC curve of class {0} (area = {1:0.2f})'\n",
    "             ''.format(i, roc_auc[i]))\n",
    "\n",
    "plt.plot([0, 1], [0, 1], 'k--', lw=lw)\n",
    "plt.xlim([0.0, 1.0])\n",
    "plt.ylim([0.0, 1.05])\n",
    "plt.xticks(fontsize=15)\n",
    "plt.yticks(fontsize=15)\n",
    "plt.xlabel('False Positive Rate', fontsize=18)\n",
    "plt.ylabel('True Positive Rate', fontsize=18)\n",
    "plt.title('Some extension of Receiver operating characteristic to multi-class', fontsize=22)\n",
    "plt.legend(loc=\"lower right\",fontsize=22)\n",
    "plt.show()"
   ]
  },
  {
   "cell_type": "code",
   "execution_count": null,
   "metadata": {
    "hidden": true
   },
   "outputs": [],
   "source": []
  },
  {
   "cell_type": "markdown",
   "metadata": {
    "heading_collapsed": true
   },
   "source": [
    "##### precision-recall\n",
    "[Desicion-recall](https://scikit-learn.org/stable/auto_examples/model_selection/plot_precision_recall.html#sphx-glr-auto-examples-model-selection-plot-precision-recall-py)"
   ]
  },
  {
   "cell_type": "code",
   "execution_count": 117,
   "metadata": {
    "ExecuteTime": {
     "end_time": "2020-03-14T22:00:35.470938Z",
     "start_time": "2020-03-14T22:00:35.465573Z"
    },
    "hidden": true
   },
   "outputs": [],
   "source": [
    "from sklearn.metrics import precision_recall_curve\n",
    "from sklearn.metrics import average_precision_score"
   ]
  },
  {
   "cell_type": "markdown",
   "metadata": {
    "hidden": true
   },
   "source": [
    "‘newton-cg’, ‘lbfgs’, ‘liblinear’, ‘sag’, ‘saga’"
   ]
  },
  {
   "cell_type": "code",
   "execution_count": 118,
   "metadata": {
    "ExecuteTime": {
     "end_time": "2020-03-14T22:00:59.861747Z",
     "start_time": "2020-03-14T22:00:35.768310Z"
    },
    "hidden": true
   },
   "outputs": [
    {
     "name": "stderr",
     "output_type": "stream",
     "text": [
      "/Users/shuyiyin/anaconda/envs/syin/lib/python3.6/site-packages/scipy/optimize/linesearch.py:466: LineSearchWarning: The line search algorithm did not converge\n",
      "  warn('The line search algorithm did not converge', LineSearchWarning)\n",
      "/Users/shuyiyin/anaconda/envs/syin/lib/python3.6/site-packages/scipy/optimize/linesearch.py:314: LineSearchWarning: The line search algorithm did not converge\n",
      "  warn('The line search algorithm did not converge', LineSearchWarning)\n",
      "/Users/shuyiyin/anaconda/envs/syin/lib/python3.6/site-packages/sklearn/utils/optimize.py:203: ConvergenceWarning: newton-cg failed to converge. Increase the number of iterations.\n",
      "  \"number of iterations.\", ConvergenceWarning)\n"
     ]
    }
   ],
   "source": [
    "clf = LogisticRegression(multi_class='multinomial',solver='newton-cg',\n",
    "                         penalty='none', max_iter=200\n",
    "                        ).fit(X_train, y_train)"
   ]
  },
  {
   "cell_type": "code",
   "execution_count": 119,
   "metadata": {
    "ExecuteTime": {
     "end_time": "2020-03-14T22:00:59.872866Z",
     "start_time": "2020-03-14T22:00:59.864881Z"
    },
    "hidden": true
   },
   "outputs": [],
   "source": [
    "y_score_log = clf.decision_function(X_test)"
   ]
  },
  {
   "cell_type": "code",
   "execution_count": 129,
   "metadata": {
    "ExecuteTime": {
     "end_time": "2020-03-14T22:11:40.399471Z",
     "start_time": "2020-03-14T22:11:40.392296Z"
    },
    "hidden": true
   },
   "outputs": [
    {
     "data": {
      "text/plain": [
       "array([[-0.21743565,  0.18285265,  0.03439929],\n",
       "       [ 0.14572654,  0.26414231, -0.41051502],\n",
       "       [ 0.4247765 ,  0.48270017, -0.90810932],\n",
       "       ...,\n",
       "       [ 0.65259919,  0.69268655, -1.34540874],\n",
       "       [-0.56635806, -0.33487172,  0.90102513],\n",
       "       [ 0.347593  ,  0.39296122, -0.74071095]])"
      ]
     },
     "execution_count": 129,
     "metadata": {},
     "output_type": "execute_result"
    }
   ],
   "source": [
    "y_score_log"
   ]
  },
  {
   "cell_type": "code",
   "execution_count": 120,
   "metadata": {
    "ExecuteTime": {
     "end_time": "2020-03-14T22:00:59.914834Z",
     "start_time": "2020-03-14T22:00:59.876682Z"
    },
    "hidden": true
   },
   "outputs": [
    {
     "name": "stdout",
     "output_type": "stream",
     "text": [
      "Average precision score, micro-averaged over all classes: 0.75\n"
     ]
    }
   ],
   "source": [
    "# For each class\n",
    "precision = dict()\n",
    "recall = dict()\n",
    "average_precision = dict()\n",
    "for i in range(3):\n",
    "    precision[i], recall[i], _ = precision_recall_curve(y_test_bin[:, i],\n",
    "                                                        y_score_log[:, i])\n",
    "    average_precision[i] = average_precision_score(y_test_bin[:, i], y_score_log[:, i])\n",
    "\n",
    "# A \"micro-average\": quantifying score on all classes jointly\n",
    "precision[\"micro\"], recall[\"micro\"], _ = precision_recall_curve(y_test_bin.ravel(),\n",
    "                                                                y_score_log.ravel())\n",
    "average_precision[\"micro\"] = average_precision_score(y_test_bin, y_score_log,\n",
    "                                                     average=\"micro\")\n",
    "print('Average precision score, micro-averaged over all classes: {0:0.2f}'\n",
    "      .format(average_precision[\"micro\"]))"
   ]
  },
  {
   "cell_type": "code",
   "execution_count": 121,
   "metadata": {
    "ExecuteTime": {
     "end_time": "2020-03-14T22:01:00.314423Z",
     "start_time": "2020-03-14T22:00:59.918079Z"
    },
    "hidden": true
   },
   "outputs": [
    {
     "data": {
      "image/png": "[encoded data removed]",
      "text/plain": [
       "<Figure size 1008x720 with 1 Axes>"
      ]
     },
     "metadata": {
      "needs_background": "light"
     },
     "output_type": "display_data"
    }
   ],
   "source": [
    "plt.figure(figsize=(14,10))\n",
    "plt.step(recall['micro'], precision['micro'], color='b', alpha=0.2,\n",
    "         where='post')\n",
    "plt.fill_between(recall[\"micro\"], precision[\"micro\"], alpha=0.2, color='b')#,\n",
    "                 #**step_kwargs)\n",
    "\n",
    "plt.xlabel(r'Recall', fontsize=18)\n",
    "plt.ylabel(r'Precision', fontsize=18)\n",
    "plt.xticks(fontsize=15)\n",
    "plt.yticks(fontsize=15)\n",
    "plt.ylim([0.0, 1.05])\n",
    "plt.xlim([0.0, 1.0])\n",
    "plt.title(r'Average precision score, micro-averaged over all classes: AP={0:0.2f}'.format(average_precision[\"micro\"]),\n",
    "          fontsize=22)\n",
    "plt.show()"
   ]
  },
  {
   "cell_type": "code",
   "execution_count": 122,
   "metadata": {
    "ExecuteTime": {
     "end_time": "2020-03-14T22:01:01.597581Z",
     "start_time": "2020-03-14T22:01:00.316999Z"
    },
    "hidden": true
   },
   "outputs": [
    {
     "data": {
      "image/png": "[encoded data removed]",
      "text/plain": [
       "<Figure size 864x720 with 1 Axes>"
      ]
     },
     "metadata": {
      "needs_background": "light"
     },
     "output_type": "display_data"
    }
   ],
   "source": [
    "from itertools import cycle\n",
    "# setup plot details\n",
    "colors = cycle(['navy', 'turquoise', 'darkorange', 'cornflowerblue', 'teal'])\n",
    "\n",
    "plt.figure(figsize=(12,10))\n",
    "f_scores = np.linspace(0.2, 0.8, num=4)\n",
    "lines = []\n",
    "labels = []\n",
    "for f_score in f_scores:\n",
    "    x = np.linspace(0.01, 1)\n",
    "    y = f_score * x / (2 * x - f_score)\n",
    "    l, = plt.plot(x[y >= 0], y[y >= 0], color='gray', alpha=0.2)\n",
    "    plt.annotate('f1={0:0.1f}'.format(f_score), xy=(0.9, y[45] + 0.02))\n",
    "\n",
    "lines.append(l)\n",
    "labels.append('iso-f1 curves')\n",
    "l, = plt.plot(recall[\"micro\"], precision[\"micro\"], color='gold', lw=2)\n",
    "lines.append(l)\n",
    "labels.append('micro-average Precision-recall (area = {0:0.2f})'\n",
    "              ''.format(average_precision[\"micro\"]))\n",
    "\n",
    "for i, color in zip(range(n_classes), colors):\n",
    "    l, = plt.plot(recall[i], precision[i], color=color, lw=2)\n",
    "    lines.append(l)\n",
    "    labels.append('Precision-recall for class {0} (area = {1:0.2f})'\n",
    "                  ''.format(i, average_precision[i]))\n",
    "\n",
    "fig = plt.gcf()\n",
    "fig.subplots_adjust(bottom=0.1)\n",
    "plt.xticks(fontsize=15)\n",
    "plt.yticks(fontsize=15)\n",
    "plt.xlim([0.0, 1.0])\n",
    "plt.ylim([0.0, 1.05])\n",
    "plt.xlabel('Recall', fontsize=18)\n",
    "plt.ylabel('Precision', fontsize=18)\n",
    "plt.title('Extension of Precision-Recall curve to multi-class',fontsize=22)\n",
    "plt.legend(lines, labels, loc=(0.1, -0.4), prop=dict(size=22))\n",
    "\n",
    "\n",
    "plt.show()"
   ]
  },
  {
   "cell_type": "code",
   "execution_count": null,
   "metadata": {
    "hidden": true
   },
   "outputs": [],
   "source": []
  },
  {
   "cell_type": "code",
   "execution_count": 123,
   "metadata": {
    "ExecuteTime": {
     "end_time": "2020-03-14T22:01:34.640547Z",
     "start_time": "2020-03-14T22:01:01.600004Z"
    },
    "hidden": true
   },
   "outputs": [
    {
     "name": "stderr",
     "output_type": "stream",
     "text": [
      "/Users/shuyiyin/anaconda/envs/syin/lib/python3.6/site-packages/scipy/optimize/linesearch.py:466: LineSearchWarning: The line search algorithm did not converge\n",
      "  warn('The line search algorithm did not converge', LineSearchWarning)\n",
      "/Users/shuyiyin/anaconda/envs/syin/lib/python3.6/site-packages/scipy/optimize/linesearch.py:314: LineSearchWarning: The line search algorithm did not converge\n",
      "  warn('The line search algorithm did not converge', LineSearchWarning)\n",
      "/Users/shuyiyin/anaconda/envs/syin/lib/python3.6/site-packages/sklearn/utils/optimize.py:203: ConvergenceWarning: newton-cg failed to converge. Increase the number of iterations.\n",
      "  \"number of iterations.\", ConvergenceWarning)\n"
     ]
    }
   ],
   "source": [
    "clf = LogisticRegression(multi_class='multinomial',solver='newton-cg',\n",
    "                         penalty='none', max_iter=200,class_weight='balanced'\n",
    "                        ).fit(X_train, y_train)"
   ]
  },
  {
   "cell_type": "code",
   "execution_count": 124,
   "metadata": {
    "ExecuteTime": {
     "end_time": "2020-03-14T22:01:34.652089Z",
     "start_time": "2020-03-14T22:01:34.643765Z"
    },
    "hidden": true
   },
   "outputs": [],
   "source": [
    "y_score_log = clf.decision_function(X_test)"
   ]
  },
  {
   "cell_type": "code",
   "execution_count": 125,
   "metadata": {
    "ExecuteTime": {
     "end_time": "2020-03-14T22:01:34.702585Z",
     "start_time": "2020-03-14T22:01:34.664434Z"
    },
    "hidden": true
   },
   "outputs": [
    {
     "name": "stdout",
     "output_type": "stream",
     "text": [
      "Average precision score, micro-averaged over all classes: 0.47\n"
     ]
    }
   ],
   "source": [
    "# For each class\n",
    "precision = dict()\n",
    "recall = dict()\n",
    "average_precision = dict()\n",
    "for i in range(3):\n",
    "    precision[i], recall[i], _ = precision_recall_curve(y_test_bin[:, i],\n",
    "                                                        y_score_log[:, i])\n",
    "    average_precision[i] = average_precision_score(y_test_bin[:, i], y_score_log[:, i])\n",
    "\n",
    "# A \"micro-average\": quantifying score on all classes jointly\n",
    "precision[\"micro\"], recall[\"micro\"], _ = precision_recall_curve(y_test_bin.ravel(),\n",
    "                                                                y_score_log.ravel())\n",
    "average_precision[\"micro\"] = average_precision_score(y_test_bin, y_score_log,\n",
    "                                                     average=\"micro\")\n",
    "print('Average precision score, micro-averaged over all classes: {0:0.2f}'\n",
    "      .format(average_precision[\"micro\"]))"
   ]
  },
  {
   "cell_type": "code",
   "execution_count": 126,
   "metadata": {
    "ExecuteTime": {
     "end_time": "2020-03-14T22:01:35.089169Z",
     "start_time": "2020-03-14T22:01:34.707121Z"
    },
    "hidden": true
   },
   "outputs": [
    {
     "data": {
      "image/png": "[encoded data removed]",
      "text/plain": [
       "<Figure size 1008x720 with 1 Axes>"
      ]
     },
     "metadata": {
      "needs_background": "light"
     },
     "output_type": "display_data"
    }
   ],
   "source": [
    "plt.figure(figsize=(14,10))\n",
    "plt.step(recall['micro'], precision['micro'], color='b', alpha=0.2,\n",
    "         where='post')\n",
    "plt.fill_between(recall[\"micro\"], precision[\"micro\"], alpha=0.2, color='b')#,\n",
    "                 #**step_kwargs)\n",
    "\n",
    "plt.xlabel(r'Recall', fontsize=18)\n",
    "plt.ylabel(r'Precision', fontsize=18)\n",
    "plt.xticks(fontsize=15)\n",
    "plt.yticks(fontsize=15)\n",
    "plt.ylim([0.0, 1.05])\n",
    "plt.xlim([0.0, 1.0])\n",
    "plt.title(r'Average precision score, micro-averaged over all classes: AP={0:0.2f}'.format(average_precision[\"micro\"]),\n",
    "          fontsize=22)\n",
    "plt.show()"
   ]
  },
  {
   "cell_type": "code",
   "execution_count": 127,
   "metadata": {
    "ExecuteTime": {
     "end_time": "2020-03-14T22:01:35.640036Z",
     "start_time": "2020-03-14T22:01:35.091653Z"
    },
    "hidden": true
   },
   "outputs": [
    {
     "data": {
      "image/png": "[encoded data removed]",
      "text/plain": [
       "<Figure size 864x720 with 1 Axes>"
      ]
     },
     "metadata": {
      "needs_background": "light"
     },
     "output_type": "display_data"
    }
   ],
   "source": [
    "from itertools import cycle\n",
    "# setup plot details\n",
    "colors = cycle(['navy', 'turquoise', 'darkorange', 'cornflowerblue', 'teal'])\n",
    "\n",
    "plt.figure(figsize=(12,10))\n",
    "f_scores = np.linspace(0.2, 0.8, num=4)\n",
    "lines = []\n",
    "labels = []\n",
    "for f_score in f_scores:\n",
    "    x = np.linspace(0.01, 1)\n",
    "    y = f_score * x / (2 * x - f_score)\n",
    "    l, = plt.plot(x[y >= 0], y[y >= 0], color='gray', alpha=0.2)\n",
    "    plt.annotate('f1={0:0.1f}'.format(f_score), xy=(0.9, y[45] + 0.02))\n",
    "\n",
    "lines.append(l)\n",
    "labels.append('iso-f1 curves')\n",
    "l, = plt.plot(recall[\"micro\"], precision[\"micro\"], color='gold', lw=2)\n",
    "lines.append(l)\n",
    "labels.append('micro-average Precision-recall (area = {0:0.2f})'\n",
    "              ''.format(average_precision[\"micro\"]))\n",
    "\n",
    "for i, color in zip(range(n_classes), colors):\n",
    "    l, = plt.plot(recall[i], precision[i], color=color, lw=2)\n",
    "    lines.append(l)\n",
    "    labels.append('Precision-recall for class {0} (area = {1:0.2f})'\n",
    "                  ''.format(i, average_precision[i]))\n",
    "\n",
    "fig = plt.gcf()\n",
    "fig.subplots_adjust(bottom=0.1)\n",
    "plt.xticks(fontsize=15)\n",
    "plt.yticks(fontsize=15)\n",
    "plt.xlim([0.0, 1.0])\n",
    "plt.ylim([0.0, 1.05])\n",
    "plt.xlabel('Recall', fontsize=18)\n",
    "plt.ylabel('Precision', fontsize=18)\n",
    "plt.title('Extension of Precision-Recall curve to multi-class',fontsize=22)\n",
    "plt.legend(lines, labels, loc=(0.1, -0.4), prop=dict(size=22))\n",
    "\n",
    "\n",
    "plt.show()"
   ]
  },
  {
   "cell_type": "code",
   "execution_count": null,
   "metadata": {
    "hidden": true
   },
   "outputs": [],
   "source": []
  }
 ],
 "metadata": {
  "kernelspec": {
   "display_name": "Python 3",
   "language": "python",
   "name": "python3"
  },
  "language_info": {
   "codemirror_mode": {
    "name": "ipython",
    "version": 3
   },
   "file_extension": ".py",
   "mimetype": "text/x-python",
   "name": "python",
   "nbconvert_exporter": "python",
   "pygments_lexer": "ipython3",
   "version": "3.6.2"
  }
 },
 "nbformat": 4,
 "nbformat_minor": 2
}
